{
 "cells": [
  {
   "cell_type": "code",
   "execution_count": 1,
   "id": "6a5a1194-8b03-4cbe-990c-ecd37f383e99",
   "metadata": {},
   "outputs": [],
   "source": [
    "import numpy as np\n",
    "import pandas as pd\n",
    "import matplotlib.pyplot as plt\n",
    "import os\n",
    "\n",
    "os.chdir(\"E:/EBAC/Material/Proyecto empresa aliada entregable 1\")\n",
    "calendarSales = pd.read_csv(\"calendarSales.csv\")\n",
    "productCatSeg = pd.read_csv(\"productCatSeg.csv\")\n",
    "productSales = pd.read_csv(\"productSales.csv\")"
   ]
  },
  {
   "cell_type": "code",
   "execution_count": 2,
   "id": "b5679185-5370-4261-9bcc-c87e73aed953",
   "metadata": {},
   "outputs": [
    {
     "data": {
      "text/html": [
       "<div>\n",
       "<style scoped>\n",
       "    .dataframe tbody tr th:only-of-type {\n",
       "        vertical-align: middle;\n",
       "    }\n",
       "\n",
       "    .dataframe tbody tr th {\n",
       "        vertical-align: top;\n",
       "    }\n",
       "\n",
       "    .dataframe thead th {\n",
       "        text-align: right;\n",
       "    }\n",
       "</style>\n",
       "<table border=\"1\" class=\"dataframe\">\n",
       "  <thead>\n",
       "    <tr style=\"text-align: right;\">\n",
       "      <th></th>\n",
       "      <th>WEEK</th>\n",
       "      <th>YEAR</th>\n",
       "      <th>MONTH</th>\n",
       "      <th>WEEK_NUMBER</th>\n",
       "      <th>DATE</th>\n",
       "      <th>ITEM</th>\n",
       "      <th>TOTAL_UNIT_SALES</th>\n",
       "      <th>TOTAL_VALUE_SALES</th>\n",
       "      <th>TOTAL_UNIT_AVG_WEEKLY_SALES</th>\n",
       "      <th>REGION</th>\n",
       "      <th>...</th>\n",
       "      <th>BRAND</th>\n",
       "      <th>ITEM_DESCRIPTION</th>\n",
       "      <th>CATEGORY</th>\n",
       "      <th>CATEGORY_NAME</th>\n",
       "      <th>FORMAT1</th>\n",
       "      <th>FORMAT2</th>\n",
       "      <th>ATTR1</th>\n",
       "      <th>ATTR2</th>\n",
       "      <th>ATTR3</th>\n",
       "      <th>SEGMENT</th>\n",
       "    </tr>\n",
       "  </thead>\n",
       "  <tbody>\n",
       "    <tr>\n",
       "      <th>0</th>\n",
       "      <td>01-22</td>\n",
       "      <td>2022</td>\n",
       "      <td>1</td>\n",
       "      <td>1</td>\n",
       "      <td>2022-01-09</td>\n",
       "      <td>7501268200001</td>\n",
       "      <td>0.003</td>\n",
       "      <td>0.027</td>\n",
       "      <td>3.0</td>\n",
       "      <td>TOTAL AUTOS AREA 1</td>\n",
       "      <td>...</td>\n",
       "      <td>LA VALENCIANA</td>\n",
       "      <td>LA VALENCIANA BOT.PLAST. 1000ML NAL. 750126820...</td>\n",
       "      <td>1</td>\n",
       "      <td>FABRIC TREATMENT and SANIT\\r\\n</td>\n",
       "      <td>LIQUIDO</td>\n",
       "      <td>LIQUIDO</td>\n",
       "      <td>CLORO</td>\n",
       "      <td>CLORO</td>\n",
       "      <td>CLORO</td>\n",
       "      <td>BLEACH</td>\n",
       "    </tr>\n",
       "    <tr>\n",
       "      <th>1</th>\n",
       "      <td>01-22</td>\n",
       "      <td>2022</td>\n",
       "      <td>1</td>\n",
       "      <td>1</td>\n",
       "      <td>2022-01-09</td>\n",
       "      <td>7501268200001</td>\n",
       "      <td>0.003</td>\n",
       "      <td>0.027</td>\n",
       "      <td>3.0</td>\n",
       "      <td>TOTAL AUTOS AREA 1</td>\n",
       "      <td>...</td>\n",
       "      <td>LA VALENCIANA</td>\n",
       "      <td>LA VALENCIANA BOT.PLAST. 1000ML NAL. 750126820...</td>\n",
       "      <td>1</td>\n",
       "      <td>FABRIC TREATMENT and SANIT\\r\\n</td>\n",
       "      <td>LIQUIDO</td>\n",
       "      <td>LIQUIDO</td>\n",
       "      <td>CLORO</td>\n",
       "      <td>CLORO</td>\n",
       "      <td>CLORO</td>\n",
       "      <td>BLEACH</td>\n",
       "    </tr>\n",
       "    <tr>\n",
       "      <th>2</th>\n",
       "      <td>01-22</td>\n",
       "      <td>2022</td>\n",
       "      <td>1</td>\n",
       "      <td>1</td>\n",
       "      <td>2022-01-09</td>\n",
       "      <td>7501268200001</td>\n",
       "      <td>0.003</td>\n",
       "      <td>0.027</td>\n",
       "      <td>3.0</td>\n",
       "      <td>TOTAL AUTOS AREA 1</td>\n",
       "      <td>...</td>\n",
       "      <td>LA VALENCIANA</td>\n",
       "      <td>LA VALENCIANA BOT.PLAST. 1000ML NAL. 750126820...</td>\n",
       "      <td>1</td>\n",
       "      <td>FABRIC TREATMENT and SANIT\\r\\n</td>\n",
       "      <td>LIQUIDO</td>\n",
       "      <td>LIQUIDO</td>\n",
       "      <td>CLORO</td>\n",
       "      <td>CLORO</td>\n",
       "      <td>CLORO</td>\n",
       "      <td>BLEACH</td>\n",
       "    </tr>\n",
       "    <tr>\n",
       "      <th>3</th>\n",
       "      <td>01-22</td>\n",
       "      <td>2022</td>\n",
       "      <td>1</td>\n",
       "      <td>1</td>\n",
       "      <td>2022-01-09</td>\n",
       "      <td>7501268200001</td>\n",
       "      <td>0.003</td>\n",
       "      <td>0.027</td>\n",
       "      <td>3.0</td>\n",
       "      <td>TOTAL AUTOS AREA 1</td>\n",
       "      <td>...</td>\n",
       "      <td>LA VALENCIANA</td>\n",
       "      <td>LA VALENCIANA BOT.PLAST. 1000ML NAL. 750126820...</td>\n",
       "      <td>1</td>\n",
       "      <td>FABRIC TREATMENT and SANIT\\r\\n</td>\n",
       "      <td>LIQUIDO</td>\n",
       "      <td>GEL</td>\n",
       "      <td>CLORO</td>\n",
       "      <td>CLORO</td>\n",
       "      <td>CLORO</td>\n",
       "      <td>BLEACH</td>\n",
       "    </tr>\n",
       "    <tr>\n",
       "      <th>4</th>\n",
       "      <td>01-22</td>\n",
       "      <td>2022</td>\n",
       "      <td>1</td>\n",
       "      <td>1</td>\n",
       "      <td>2022-01-09</td>\n",
       "      <td>7501268200001</td>\n",
       "      <td>0.003</td>\n",
       "      <td>0.027</td>\n",
       "      <td>3.0</td>\n",
       "      <td>TOTAL AUTOS AREA 1</td>\n",
       "      <td>...</td>\n",
       "      <td>LA VALENCIANA</td>\n",
       "      <td>LA VALENCIANA BOT.PLAST. 1000ML NAL. 750126820...</td>\n",
       "      <td>1</td>\n",
       "      <td>FABRIC TREATMENT and SANIT\\r\\n</td>\n",
       "      <td>LIQUIDO</td>\n",
       "      <td>LIQUIDO</td>\n",
       "      <td>CLORO</td>\n",
       "      <td>CLORO</td>\n",
       "      <td>CLORO</td>\n",
       "      <td>BLEACH</td>\n",
       "    </tr>\n",
       "  </tbody>\n",
       "</table>\n",
       "<p>5 rows × 21 columns</p>\n",
       "</div>"
      ],
      "text/plain": [
       "    WEEK  YEAR  MONTH  WEEK_NUMBER        DATE           ITEM  \\\n",
       "0  01-22  2022      1            1  2022-01-09  7501268200001   \n",
       "1  01-22  2022      1            1  2022-01-09  7501268200001   \n",
       "2  01-22  2022      1            1  2022-01-09  7501268200001   \n",
       "3  01-22  2022      1            1  2022-01-09  7501268200001   \n",
       "4  01-22  2022      1            1  2022-01-09  7501268200001   \n",
       "\n",
       "   TOTAL_UNIT_SALES  TOTAL_VALUE_SALES  TOTAL_UNIT_AVG_WEEKLY_SALES  \\\n",
       "0             0.003              0.027                          3.0   \n",
       "1             0.003              0.027                          3.0   \n",
       "2             0.003              0.027                          3.0   \n",
       "3             0.003              0.027                          3.0   \n",
       "4             0.003              0.027                          3.0   \n",
       "\n",
       "               REGION  ...          BRAND  \\\n",
       "0  TOTAL AUTOS AREA 1  ...  LA VALENCIANA   \n",
       "1  TOTAL AUTOS AREA 1  ...  LA VALENCIANA   \n",
       "2  TOTAL AUTOS AREA 1  ...  LA VALENCIANA   \n",
       "3  TOTAL AUTOS AREA 1  ...  LA VALENCIANA   \n",
       "4  TOTAL AUTOS AREA 1  ...  LA VALENCIANA   \n",
       "\n",
       "                                    ITEM_DESCRIPTION CATEGORY  \\\n",
       "0  LA VALENCIANA BOT.PLAST. 1000ML NAL. 750126820...        1   \n",
       "1  LA VALENCIANA BOT.PLAST. 1000ML NAL. 750126820...        1   \n",
       "2  LA VALENCIANA BOT.PLAST. 1000ML NAL. 750126820...        1   \n",
       "3  LA VALENCIANA BOT.PLAST. 1000ML NAL. 750126820...        1   \n",
       "4  LA VALENCIANA BOT.PLAST. 1000ML NAL. 750126820...        1   \n",
       "\n",
       "                    CATEGORY_NAME  FORMAT1  FORMAT2  ATTR1  ATTR2  ATTR3  \\\n",
       "0  FABRIC TREATMENT and SANIT\\r\\n  LIQUIDO  LIQUIDO  CLORO  CLORO  CLORO   \n",
       "1  FABRIC TREATMENT and SANIT\\r\\n  LIQUIDO  LIQUIDO  CLORO  CLORO  CLORO   \n",
       "2  FABRIC TREATMENT and SANIT\\r\\n  LIQUIDO  LIQUIDO  CLORO  CLORO  CLORO   \n",
       "3  FABRIC TREATMENT and SANIT\\r\\n  LIQUIDO      GEL  CLORO  CLORO  CLORO   \n",
       "4  FABRIC TREATMENT and SANIT\\r\\n  LIQUIDO  LIQUIDO  CLORO  CLORO  CLORO   \n",
       "\n",
       "  SEGMENT  \n",
       "0  BLEACH  \n",
       "1  BLEACH  \n",
       "2  BLEACH  \n",
       "3  BLEACH  \n",
       "4  BLEACH  \n",
       "\n",
       "[5 rows x 21 columns]"
      ]
     },
     "execution_count": 2,
     "metadata": {},
     "output_type": "execute_result"
    }
   ],
   "source": [
    "productSales.head()"
   ]
  },
  {
   "cell_type": "code",
   "execution_count": 3,
   "id": "713ea4b9-bdcf-4376-bb69-674af7643ee9",
   "metadata": {},
   "outputs": [
    {
     "data": {
      "text/plain": [
       "array(['LA VALENCIANA', 'LOS PATITOS', 'OXI CLEAN', 'CLARASOL', 'CLOROX',\n",
       "       'VANISH', 'SHOUT', 'DR.BECKMANN', 'SANYTOL', 'IBERIA', 'BLANCATEL',\n",
       "       'CLORALEX', 'CUELLOS PUNOS Y MANCHITAS', 'BANDERA', 'BCLORHADA',\n",
       "       'PURO SOL', 'OTHERS MARCA UNIF.', 'TIDE', 'LYSOL', 'LA JAPONESA',\n",
       "       'CLORTEX', 'PATITO', 'CLORALUZ', 'HARPIC'], dtype=object)"
      ]
     },
     "execution_count": 3,
     "metadata": {},
     "output_type": "execute_result"
    }
   ],
   "source": [
    "Brands = productSales['BRAND'].unique()\n",
    "Brands"
   ]
  },
  {
   "cell_type": "code",
   "execution_count": 4,
   "id": "f43ad99c-6231-407a-bf44-32b78cf5c973",
   "metadata": {},
   "outputs": [
    {
     "data": {
      "text/html": [
       "<div>\n",
       "<style scoped>\n",
       "    .dataframe tbody tr th:only-of-type {\n",
       "        vertical-align: middle;\n",
       "    }\n",
       "\n",
       "    .dataframe tbody tr th {\n",
       "        vertical-align: top;\n",
       "    }\n",
       "\n",
       "    .dataframe thead th {\n",
       "        text-align: right;\n",
       "    }\n",
       "</style>\n",
       "<table border=\"1\" class=\"dataframe\">\n",
       "  <thead>\n",
       "    <tr style=\"text-align: right;\">\n",
       "      <th></th>\n",
       "      <th>WEEK</th>\n",
       "      <th>YEAR</th>\n",
       "      <th>MONTH</th>\n",
       "      <th>WEEK_NUMBER</th>\n",
       "      <th>DATE</th>\n",
       "      <th>ITEM</th>\n",
       "      <th>TOTAL_UNIT_SALES</th>\n",
       "      <th>TOTAL_VALUE_SALES</th>\n",
       "      <th>TOTAL_UNIT_AVG_WEEKLY_SALES</th>\n",
       "      <th>REGION</th>\n",
       "      <th>...</th>\n",
       "      <th>BRAND</th>\n",
       "      <th>ITEM_DESCRIPTION</th>\n",
       "      <th>CATEGORY</th>\n",
       "      <th>CATEGORY_NAME</th>\n",
       "      <th>FORMAT1</th>\n",
       "      <th>FORMAT2</th>\n",
       "      <th>ATTR1</th>\n",
       "      <th>ATTR2</th>\n",
       "      <th>ATTR3</th>\n",
       "      <th>SEGMENT</th>\n",
       "    </tr>\n",
       "  </thead>\n",
       "  <tbody>\n",
       "    <tr>\n",
       "      <th>884</th>\n",
       "      <td>01-22</td>\n",
       "      <td>2022</td>\n",
       "      <td>1</td>\n",
       "      <td>1</td>\n",
       "      <td>2022-01-09</td>\n",
       "      <td>7501058716422</td>\n",
       "      <td>0.033</td>\n",
       "      <td>2.2</td>\n",
       "      <td>2.357</td>\n",
       "      <td>TOTAL AUTOS AREA 6</td>\n",
       "      <td>...</td>\n",
       "      <td>VANISH</td>\n",
       "      <td>VANISH OXI ACTION GOLD QUITAMANCHA AHORRO DEL ...</td>\n",
       "      <td>1</td>\n",
       "      <td>FABRIC TREATMENT and SANIT\\r\\n</td>\n",
       "      <td>POLVO</td>\n",
       "      <td>LIQUIDO</td>\n",
       "      <td>SAFE BLEACH</td>\n",
       "      <td>FABRIC TREATMENT</td>\n",
       "      <td>SAFE BLEACH</td>\n",
       "      <td>BLEACH</td>\n",
       "    </tr>\n",
       "    <tr>\n",
       "      <th>885</th>\n",
       "      <td>01-22</td>\n",
       "      <td>2022</td>\n",
       "      <td>1</td>\n",
       "      <td>1</td>\n",
       "      <td>2022-01-09</td>\n",
       "      <td>7501058716422</td>\n",
       "      <td>0.033</td>\n",
       "      <td>2.2</td>\n",
       "      <td>2.357</td>\n",
       "      <td>TOTAL AUTOS AREA 6</td>\n",
       "      <td>...</td>\n",
       "      <td>VANISH</td>\n",
       "      <td>VANISH OXI ACTION GOLD QUITAMANCHA AHORRO DEL ...</td>\n",
       "      <td>1</td>\n",
       "      <td>FABRIC TREATMENT and SANIT\\r\\n</td>\n",
       "      <td>POLVO</td>\n",
       "      <td>LIQUIDO</td>\n",
       "      <td>SAFE BLEACH</td>\n",
       "      <td>FABRIC TREATMENT</td>\n",
       "      <td>SAFE BLEACH</td>\n",
       "      <td>BLEACH</td>\n",
       "    </tr>\n",
       "    <tr>\n",
       "      <th>886</th>\n",
       "      <td>01-22</td>\n",
       "      <td>2022</td>\n",
       "      <td>1</td>\n",
       "      <td>1</td>\n",
       "      <td>2022-01-09</td>\n",
       "      <td>7501058716422</td>\n",
       "      <td>0.033</td>\n",
       "      <td>2.2</td>\n",
       "      <td>2.357</td>\n",
       "      <td>TOTAL AUTOS AREA 6</td>\n",
       "      <td>...</td>\n",
       "      <td>VANISH</td>\n",
       "      <td>VANISH OXI ACTION GOLD QUITAMANCHA AHORRO DEL ...</td>\n",
       "      <td>1</td>\n",
       "      <td>FABRIC TREATMENT and SANIT\\r\\n</td>\n",
       "      <td>POLVO</td>\n",
       "      <td>LIQUIDO</td>\n",
       "      <td>SAFE BLEACH</td>\n",
       "      <td>FABRIC TREATMENT</td>\n",
       "      <td>SAFE BLEACH</td>\n",
       "      <td>BLEACH</td>\n",
       "    </tr>\n",
       "    <tr>\n",
       "      <th>887</th>\n",
       "      <td>01-22</td>\n",
       "      <td>2022</td>\n",
       "      <td>1</td>\n",
       "      <td>1</td>\n",
       "      <td>2022-01-09</td>\n",
       "      <td>7501058716422</td>\n",
       "      <td>0.033</td>\n",
       "      <td>2.2</td>\n",
       "      <td>2.357</td>\n",
       "      <td>TOTAL AUTOS AREA 6</td>\n",
       "      <td>...</td>\n",
       "      <td>VANISH</td>\n",
       "      <td>VANISH OXI ACTION GOLD QUITAMANCHA AHORRO DEL ...</td>\n",
       "      <td>1</td>\n",
       "      <td>FABRIC TREATMENT and SANIT\\r\\n</td>\n",
       "      <td>POLVO</td>\n",
       "      <td>GEL</td>\n",
       "      <td>SAFE BLEACH</td>\n",
       "      <td>FABRIC TREATMENT</td>\n",
       "      <td>SAFE BLEACH</td>\n",
       "      <td>BLEACH</td>\n",
       "    </tr>\n",
       "    <tr>\n",
       "      <th>888</th>\n",
       "      <td>01-22</td>\n",
       "      <td>2022</td>\n",
       "      <td>1</td>\n",
       "      <td>1</td>\n",
       "      <td>2022-01-09</td>\n",
       "      <td>7501058716422</td>\n",
       "      <td>0.033</td>\n",
       "      <td>2.2</td>\n",
       "      <td>2.357</td>\n",
       "      <td>TOTAL AUTOS AREA 6</td>\n",
       "      <td>...</td>\n",
       "      <td>VANISH</td>\n",
       "      <td>VANISH OXI ACTION GOLD QUITAMANCHA AHORRO DEL ...</td>\n",
       "      <td>1</td>\n",
       "      <td>FABRIC TREATMENT and SANIT\\r\\n</td>\n",
       "      <td>POLVO</td>\n",
       "      <td>LIQUIDO</td>\n",
       "      <td>SAFE BLEACH</td>\n",
       "      <td>FABRIC TREATMENT</td>\n",
       "      <td>SAFE BLEACH</td>\n",
       "      <td>BLEACH</td>\n",
       "    </tr>\n",
       "  </tbody>\n",
       "</table>\n",
       "<p>5 rows × 21 columns</p>\n",
       "</div>"
      ],
      "text/plain": [
       "      WEEK  YEAR  MONTH  WEEK_NUMBER        DATE           ITEM  \\\n",
       "884  01-22  2022      1            1  2022-01-09  7501058716422   \n",
       "885  01-22  2022      1            1  2022-01-09  7501058716422   \n",
       "886  01-22  2022      1            1  2022-01-09  7501058716422   \n",
       "887  01-22  2022      1            1  2022-01-09  7501058716422   \n",
       "888  01-22  2022      1            1  2022-01-09  7501058716422   \n",
       "\n",
       "     TOTAL_UNIT_SALES  TOTAL_VALUE_SALES  TOTAL_UNIT_AVG_WEEKLY_SALES  \\\n",
       "884             0.033                2.2                        2.357   \n",
       "885             0.033                2.2                        2.357   \n",
       "886             0.033                2.2                        2.357   \n",
       "887             0.033                2.2                        2.357   \n",
       "888             0.033                2.2                        2.357   \n",
       "\n",
       "                 REGION  ...   BRAND  \\\n",
       "884  TOTAL AUTOS AREA 6  ...  VANISH   \n",
       "885  TOTAL AUTOS AREA 6  ...  VANISH   \n",
       "886  TOTAL AUTOS AREA 6  ...  VANISH   \n",
       "887  TOTAL AUTOS AREA 6  ...  VANISH   \n",
       "888  TOTAL AUTOS AREA 6  ...  VANISH   \n",
       "\n",
       "                                      ITEM_DESCRIPTION CATEGORY  \\\n",
       "884  VANISH OXI ACTION GOLD QUITAMANCHA AHORRO DEL ...        1   \n",
       "885  VANISH OXI ACTION GOLD QUITAMANCHA AHORRO DEL ...        1   \n",
       "886  VANISH OXI ACTION GOLD QUITAMANCHA AHORRO DEL ...        1   \n",
       "887  VANISH OXI ACTION GOLD QUITAMANCHA AHORRO DEL ...        1   \n",
       "888  VANISH OXI ACTION GOLD QUITAMANCHA AHORRO DEL ...        1   \n",
       "\n",
       "                      CATEGORY_NAME FORMAT1  FORMAT2        ATTR1  \\\n",
       "884  FABRIC TREATMENT and SANIT\\r\\n   POLVO  LIQUIDO  SAFE BLEACH   \n",
       "885  FABRIC TREATMENT and SANIT\\r\\n   POLVO  LIQUIDO  SAFE BLEACH   \n",
       "886  FABRIC TREATMENT and SANIT\\r\\n   POLVO  LIQUIDO  SAFE BLEACH   \n",
       "887  FABRIC TREATMENT and SANIT\\r\\n   POLVO      GEL  SAFE BLEACH   \n",
       "888  FABRIC TREATMENT and SANIT\\r\\n   POLVO  LIQUIDO  SAFE BLEACH   \n",
       "\n",
       "                ATTR2        ATTR3 SEGMENT  \n",
       "884  FABRIC TREATMENT  SAFE BLEACH  BLEACH  \n",
       "885  FABRIC TREATMENT  SAFE BLEACH  BLEACH  \n",
       "886  FABRIC TREATMENT  SAFE BLEACH  BLEACH  \n",
       "887  FABRIC TREATMENT  SAFE BLEACH  BLEACH  \n",
       "888  FABRIC TREATMENT  SAFE BLEACH  BLEACH  \n",
       "\n",
       "[5 rows x 21 columns]"
      ]
     },
     "execution_count": 4,
     "metadata": {},
     "output_type": "execute_result"
    }
   ],
   "source": [
    "# Filtramos las ventas para solo quedarnos con las marcas Vanish y Lysol\n",
    "VanishLysolSales = productSales[productSales['BRAND'].isin(['VANISH', 'LYSOL'])]\n",
    "VanishLysolSales.head()"
   ]
  },
  {
   "cell_type": "markdown",
   "id": "8bb926ae-2f24-4300-983b-51f07a907ee8",
   "metadata": {},
   "source": [
    "Utilizaremos un modelo de series de tiempo debido a que nuestra informacion es secuencial y dependiente del tiempo ademas de la necesidad de predecir valores futuros"
   ]
  },
  {
   "cell_type": "code",
   "execution_count": 5,
   "id": "1fe9d0b8-6856-4e25-83d1-cff08460a1a0",
   "metadata": {},
   "outputs": [
    {
     "data": {
      "text/html": [
       "<div>\n",
       "<style scoped>\n",
       "    .dataframe tbody tr th:only-of-type {\n",
       "        vertical-align: middle;\n",
       "    }\n",
       "\n",
       "    .dataframe tbody tr th {\n",
       "        vertical-align: top;\n",
       "    }\n",
       "\n",
       "    .dataframe thead th {\n",
       "        text-align: right;\n",
       "    }\n",
       "</style>\n",
       "<table border=\"1\" class=\"dataframe\">\n",
       "  <thead>\n",
       "    <tr style=\"text-align: right;\">\n",
       "      <th></th>\n",
       "      <th>TOTAL_VALUE_SALES</th>\n",
       "    </tr>\n",
       "    <tr>\n",
       "      <th>WEEK</th>\n",
       "      <th></th>\n",
       "    </tr>\n",
       "  </thead>\n",
       "  <tbody>\n",
       "    <tr>\n",
       "      <th>01-22</th>\n",
       "      <td>1567490.132</td>\n",
       "    </tr>\n",
       "    <tr>\n",
       "      <th>02-22</th>\n",
       "      <td>1476009.652</td>\n",
       "    </tr>\n",
       "    <tr>\n",
       "      <th>03-22</th>\n",
       "      <td>1281626.840</td>\n",
       "    </tr>\n",
       "    <tr>\n",
       "      <th>04-22</th>\n",
       "      <td>1274591.968</td>\n",
       "    </tr>\n",
       "    <tr>\n",
       "      <th>05-22</th>\n",
       "      <td>1290169.088</td>\n",
       "    </tr>\n",
       "    <tr>\n",
       "      <th>...</th>\n",
       "      <td>...</td>\n",
       "    </tr>\n",
       "    <tr>\n",
       "      <th>24-23</th>\n",
       "      <td>1604955.352</td>\n",
       "    </tr>\n",
       "    <tr>\n",
       "      <th>25-23</th>\n",
       "      <td>1507934.584</td>\n",
       "    </tr>\n",
       "    <tr>\n",
       "      <th>26-23</th>\n",
       "      <td>1659153.236</td>\n",
       "    </tr>\n",
       "    <tr>\n",
       "      <th>27-23</th>\n",
       "      <td>1782029.132</td>\n",
       "    </tr>\n",
       "    <tr>\n",
       "      <th>28-23</th>\n",
       "      <td>1624043.720</td>\n",
       "    </tr>\n",
       "  </tbody>\n",
       "</table>\n",
       "<p>80 rows × 1 columns</p>\n",
       "</div>"
      ],
      "text/plain": [
       "       TOTAL_VALUE_SALES\n",
       "WEEK                    \n",
       "01-22        1567490.132\n",
       "02-22        1476009.652\n",
       "03-22        1281626.840\n",
       "04-22        1274591.968\n",
       "05-22        1290169.088\n",
       "...                  ...\n",
       "24-23        1604955.352\n",
       "25-23        1507934.584\n",
       "26-23        1659153.236\n",
       "27-23        1782029.132\n",
       "28-23        1624043.720\n",
       "\n",
       "[80 rows x 1 columns]"
      ]
     },
     "execution_count": 5,
     "metadata": {},
     "output_type": "execute_result"
    }
   ],
   "source": [
    "WeeklySales22 = VanishLysolSales[VanishLysolSales[\"YEAR\"] == 2022]\n",
    "WeeklySales23 = VanishLysolSales[VanishLysolSales[\"YEAR\"] == 2023]\n",
    "VanishLysolWeeklySales22 = WeeklySales22.groupby('WEEK')['TOTAL_VALUE_SALES'].sum()\n",
    "VanishLysolWeeklySales22 = pd.DataFrame(VanishLysolWeeklySales22)\n",
    "VanishLysolWeeklySales23 = WeeklySales23.groupby('WEEK')['TOTAL_VALUE_SALES'].sum()\n",
    "VanishLysolWeeklySales23 = pd.DataFrame(VanishLysolWeeklySales23)\n",
    "TotalWeeklySales = pd.concat([VanishLysolWeeklySales22, VanishLysolWeeklySales23], ignore_index=False)\n",
    "TotalWeeklySales"
   ]
  },
  {
   "cell_type": "code",
   "execution_count": 6,
   "id": "c54eba19-bf23-4883-9e8e-c9ba86f95212",
   "metadata": {},
   "outputs": [
    {
     "name": "stdout",
     "output_type": "stream",
     "text": [
      "Base de entrenamiento:  72 Base de prueba:  8\n"
     ]
    }
   ],
   "source": [
    "# Dividimos los datos en conjunto de entrenamiento y prueba\n",
    "# Podemos dividir simplemente el tamaño del dataframe debido a que se utilizara un modelo de series de tiempo\n",
    "\n",
    "size_train = int(len(TotalWeeklySales) * 0.9) #Utilizaremos el 90% de los datos como entrenamiento debido al tamaño de los datos\n",
    "size_test = int(len(TotalWeeklySales) * 0.1)\n",
    "\n",
    "print(\"Base de entrenamiento: \", size_train, \"Base de prueba: \", size_test)"
   ]
  },
  {
   "cell_type": "code",
   "execution_count": 7,
   "id": "69737c9d-2041-4245-9b18-3bab625c85df",
   "metadata": {},
   "outputs": [
    {
     "data": {
      "text/plain": [
       "<Axes: xlabel='WEEK'>"
      ]
     },
     "execution_count": 7,
     "metadata": {},
     "output_type": "execute_result"
    },
    {
     "data": {
      "image/png": "[encoded data removed]",
      "text/plain": [
       "<Figure size 640x480 with 1 Axes>"
      ]
     },
     "metadata": {},
     "output_type": "display_data"
    }
   ],
   "source": [
    "TotalWeeklySales[\"TOTAL_VALUE_SALES\"].plot()"
   ]
  },
  {
   "cell_type": "markdown",
   "id": "8997f01e-320c-4471-bcb6-d4eeda9ab27d",
   "metadata": {},
   "source": [
    "Realizando una visualizacion simple de los datos podemos identificar que existe una tendencia aunque no es muy facil de identificar"
   ]
  },
  {
   "cell_type": "code",
   "execution_count": 8,
   "id": "8eaaa414-c4c9-4add-96e8-4723f4135f41",
   "metadata": {},
   "outputs": [
    {
     "data": {
      "image/png": "[encoded data removed]",
      "text/plain": [
       "<Figure size 640x480 with 1 Axes>"
      ]
     },
     "metadata": {},
     "output_type": "display_data"
    },
    {
     "data": {
      "image/png": "[encoded data removed]",
      "text/plain": [
       "<Figure size 640x480 with 1 Axes>"
      ]
     },
     "metadata": {},
     "output_type": "display_data"
    }
   ],
   "source": [
    "from statsmodels.graphics.tsaplots import plot_acf, plot_pacf\n",
    "\n",
    "plot_acf(TotalWeeklySales['TOTAL_VALUE_SALES'])\n",
    "plot_pacf(TotalWeeklySales['TOTAL_VALUE_SALES'])\n",
    "plt.show()"
   ]
  },
  {
   "cell_type": "markdown",
   "id": "a123660e-94d6-4fdb-91a1-489b765e592e",
   "metadata": {},
   "source": [
    "Debido a que no se puede observar una estacionalidad regular se utilizara el modelo ARIMA sobre SARIMA"
   ]
  },
  {
   "cell_type": "code",
   "execution_count": 9,
   "id": "634ce2fb-8bc7-499b-8fe8-4a2a09de49b1",
   "metadata": {},
   "outputs": [
    {
     "name": "stdout",
     "output_type": "stream",
     "text": [
      "ADF Statistic: -1.5411110220541042\n",
      "El valor p de la prueba de Dickey-Fuller es:  0.513085229199387\n",
      "Valores Criticos:  {'1%': -3.5463945337644063, '5%': -2.911939409384601, '10%': -2.5936515282964665}\n"
     ]
    }
   ],
   "source": [
    "# Realizacion de la prueba Dickey-Fuller para conocer si los datos son estacionarios\n",
    "# H0: La serie es NO ESTACIONARIA\n",
    "# Ha: La serie SI ES ESTACIONARIA\n",
    "\n",
    "from statsmodels.tsa.stattools import adfuller\n",
    "\n",
    "# Tomar el 90% como base de entrenamiento\n",
    "TotalWeeklySales_train = TotalWeeklySales[:size_train]\n",
    "TotalWeeklySales_test = TotalWeeklySales[size_train:]\n",
    "\n",
    "# Realizar Dickey-Fuller en el 90% de la data\n",
    "adf_test = adfuller(TotalWeeklySales_train)\n",
    "\n",
    "print(\"ADF Statistic:\", adf_test[0])\n",
    "print(\"El valor p de la prueba de Dickey-Fuller es: \", adf_test[1])\n",
    "print(\"Valores Criticos: \", adf_test[4])\n"
   ]
  },
  {
   "cell_type": "markdown",
   "id": "c035c401-f637-4e46-b070-d9f10324110d",
   "metadata": {},
   "source": [
    "Con un valor p de 0.513085 no podemos rechazar la hipotesis nula, no podemos decir que es no estacionaria"
   ]
  },
  {
   "cell_type": "code",
   "execution_count": 11,
   "id": "fef732b4-7ffe-4979-9a64-3e42ba345855",
   "metadata": {},
   "outputs": [
    {
     "name": "stderr",
     "output_type": "stream",
     "text": [
      "C:\\Users\\BlewOs\\AppData\\Local\\Temp\\ipykernel_58988\\2476374729.py:2: SettingWithCopyWarning: \n",
      "A value is trying to be set on a copy of a slice from a DataFrame.\n",
      "Try using .loc[row_indexer,col_indexer] = value instead\n",
      "\n",
      "See the caveats in the documentation: https://pandas.pydata.org/pandas-docs/stable/user_guide/indexing.html#returning-a-view-versus-a-copy\n",
      "  TotalWeeklySales_train[\"SalesValue_dif\"] = TotalWeeklySales_train[\"TOTAL_VALUE_SALES\"].diff()\n"
     ]
    },
    {
     "data": {
      "text/html": [
       "<div>\n",
       "<style scoped>\n",
       "    .dataframe tbody tr th:only-of-type {\n",
       "        vertical-align: middle;\n",
       "    }\n",
       "\n",
       "    .dataframe tbody tr th {\n",
       "        vertical-align: top;\n",
       "    }\n",
       "\n",
       "    .dataframe thead th {\n",
       "        text-align: right;\n",
       "    }\n",
       "</style>\n",
       "<table border=\"1\" class=\"dataframe\">\n",
       "  <thead>\n",
       "    <tr style=\"text-align: right;\">\n",
       "      <th></th>\n",
       "      <th>TOTAL_VALUE_SALES</th>\n",
       "      <th>SalesValue_dif</th>\n",
       "    </tr>\n",
       "    <tr>\n",
       "      <th>WEEK</th>\n",
       "      <th></th>\n",
       "      <th></th>\n",
       "    </tr>\n",
       "  </thead>\n",
       "  <tbody>\n",
       "    <tr>\n",
       "      <th>02-22</th>\n",
       "      <td>1476009.652</td>\n",
       "      <td>-91480.480</td>\n",
       "    </tr>\n",
       "    <tr>\n",
       "      <th>03-22</th>\n",
       "      <td>1281626.840</td>\n",
       "      <td>-194382.812</td>\n",
       "    </tr>\n",
       "    <tr>\n",
       "      <th>04-22</th>\n",
       "      <td>1274591.968</td>\n",
       "      <td>-7034.872</td>\n",
       "    </tr>\n",
       "    <tr>\n",
       "      <th>05-22</th>\n",
       "      <td>1290169.088</td>\n",
       "      <td>15577.120</td>\n",
       "    </tr>\n",
       "    <tr>\n",
       "      <th>06-22</th>\n",
       "      <td>1185771.652</td>\n",
       "      <td>-104397.436</td>\n",
       "    </tr>\n",
       "    <tr>\n",
       "      <th>...</th>\n",
       "      <td>...</td>\n",
       "      <td>...</td>\n",
       "    </tr>\n",
       "    <tr>\n",
       "      <th>16-23</th>\n",
       "      <td>1406723.344</td>\n",
       "      <td>-144744.392</td>\n",
       "    </tr>\n",
       "    <tr>\n",
       "      <th>17-23</th>\n",
       "      <td>1413190.220</td>\n",
       "      <td>6466.876</td>\n",
       "    </tr>\n",
       "    <tr>\n",
       "      <th>18-23</th>\n",
       "      <td>1735635.772</td>\n",
       "      <td>322445.552</td>\n",
       "    </tr>\n",
       "    <tr>\n",
       "      <th>19-23</th>\n",
       "      <td>1455052.300</td>\n",
       "      <td>-280583.472</td>\n",
       "    </tr>\n",
       "    <tr>\n",
       "      <th>20-23</th>\n",
       "      <td>1667635.164</td>\n",
       "      <td>212582.864</td>\n",
       "    </tr>\n",
       "  </tbody>\n",
       "</table>\n",
       "<p>71 rows × 2 columns</p>\n",
       "</div>"
      ],
      "text/plain": [
       "       TOTAL_VALUE_SALES  SalesValue_dif\n",
       "WEEK                                    \n",
       "02-22        1476009.652      -91480.480\n",
       "03-22        1281626.840     -194382.812\n",
       "04-22        1274591.968       -7034.872\n",
       "05-22        1290169.088       15577.120\n",
       "06-22        1185771.652     -104397.436\n",
       "...                  ...             ...\n",
       "16-23        1406723.344     -144744.392\n",
       "17-23        1413190.220        6466.876\n",
       "18-23        1735635.772      322445.552\n",
       "19-23        1455052.300     -280583.472\n",
       "20-23        1667635.164      212582.864\n",
       "\n",
       "[71 rows x 2 columns]"
      ]
     },
     "execution_count": 11,
     "metadata": {},
     "output_type": "execute_result"
    }
   ],
   "source": [
    "# Aplicar diferencias para remover la tendencia\n",
    "TotalWeeklySales_train[\"SalesValue_dif\"] = TotalWeeklySales_train[\"TOTAL_VALUE_SALES\"].diff()\n",
    "TotalWeeklySales_train = TotalWeeklySales_train.dropna()\n",
    "TotalWeeklySales_train"
   ]
  },
  {
   "cell_type": "code",
   "execution_count": 12,
   "id": "407ef806-364b-4af3-8f1b-c12b669e415f",
   "metadata": {},
   "outputs": [
    {
     "data": {
      "text/plain": [
       "<Axes: xlabel='WEEK'>"
      ]
     },
     "execution_count": 12,
     "metadata": {},
     "output_type": "execute_result"
    },
    {
     "data": {
      "image/png": "[encoded data removed]",
      "text/plain": [
       "<Figure size 640x480 with 1 Axes>"
      ]
     },
     "metadata": {},
     "output_type": "display_data"
    }
   ],
   "source": [
    "TotalWeeklySales_train[\"SalesValue_dif\"].plot()"
   ]
  },
  {
   "cell_type": "code",
   "execution_count": 13,
   "id": "ae1a4a0b-031d-4e87-9338-74264d2430f3",
   "metadata": {},
   "outputs": [
    {
     "name": "stdout",
     "output_type": "stream",
     "text": [
      "El valor p de la prueba Dickey-Fuller es:  0.07808562021140225\n"
     ]
    }
   ],
   "source": [
    "# Realizar Dickey-Fuller en las diferencias\n",
    "adf_test_dif = adfuller(TotalWeeklySales_train[\"SalesValue_dif\"])\n",
    "print(\"El valor p de la prueba Dickey-Fuller es: \", adf_test_dif[1])"
   ]
  },
  {
   "cell_type": "markdown",
   "id": "6bce979a-6398-4763-9040-90d2c3742ea1",
   "metadata": {},
   "source": [
    "Con un valor p de 0.078 no podemos rechazar la H0 por lo que no podemos decir que la serie es estacionaria"
   ]
  },
  {
   "cell_type": "code",
   "execution_count": 14,
   "id": "275c80c0-da0f-4b6c-aaff-99d78ee476ca",
   "metadata": {},
   "outputs": [
    {
     "name": "stderr",
     "output_type": "stream",
     "text": [
      "C:\\Users\\BlewOs\\AppData\\Local\\Temp\\ipykernel_58988\\492854676.py:2: SettingWithCopyWarning: \n",
      "A value is trying to be set on a copy of a slice from a DataFrame.\n",
      "Try using .loc[row_indexer,col_indexer] = value instead\n",
      "\n",
      "See the caveats in the documentation: https://pandas.pydata.org/pandas-docs/stable/user_guide/indexing.html#returning-a-view-versus-a-copy\n",
      "  TotalWeeklySales_train[\"SalesValue_dif2\"] = TotalWeeklySales_train[\"SalesValue_dif\"].diff()\n"
     ]
    },
    {
     "data": {
      "text/html": [
       "<div>\n",
       "<style scoped>\n",
       "    .dataframe tbody tr th:only-of-type {\n",
       "        vertical-align: middle;\n",
       "    }\n",
       "\n",
       "    .dataframe tbody tr th {\n",
       "        vertical-align: top;\n",
       "    }\n",
       "\n",
       "    .dataframe thead th {\n",
       "        text-align: right;\n",
       "    }\n",
       "</style>\n",
       "<table border=\"1\" class=\"dataframe\">\n",
       "  <thead>\n",
       "    <tr style=\"text-align: right;\">\n",
       "      <th></th>\n",
       "      <th>TOTAL_VALUE_SALES</th>\n",
       "      <th>SalesValue_dif</th>\n",
       "      <th>SalesValue_dif2</th>\n",
       "    </tr>\n",
       "    <tr>\n",
       "      <th>WEEK</th>\n",
       "      <th></th>\n",
       "      <th></th>\n",
       "      <th></th>\n",
       "    </tr>\n",
       "  </thead>\n",
       "  <tbody>\n",
       "    <tr>\n",
       "      <th>03-22</th>\n",
       "      <td>1281626.840</td>\n",
       "      <td>-194382.812</td>\n",
       "      <td>-102902.332</td>\n",
       "    </tr>\n",
       "    <tr>\n",
       "      <th>04-22</th>\n",
       "      <td>1274591.968</td>\n",
       "      <td>-7034.872</td>\n",
       "      <td>187347.940</td>\n",
       "    </tr>\n",
       "    <tr>\n",
       "      <th>05-22</th>\n",
       "      <td>1290169.088</td>\n",
       "      <td>15577.120</td>\n",
       "      <td>22611.992</td>\n",
       "    </tr>\n",
       "    <tr>\n",
       "      <th>06-22</th>\n",
       "      <td>1185771.652</td>\n",
       "      <td>-104397.436</td>\n",
       "      <td>-119974.556</td>\n",
       "    </tr>\n",
       "    <tr>\n",
       "      <th>07-22</th>\n",
       "      <td>1272090.924</td>\n",
       "      <td>86319.272</td>\n",
       "      <td>190716.708</td>\n",
       "    </tr>\n",
       "    <tr>\n",
       "      <th>...</th>\n",
       "      <td>...</td>\n",
       "      <td>...</td>\n",
       "      <td>...</td>\n",
       "    </tr>\n",
       "    <tr>\n",
       "      <th>16-23</th>\n",
       "      <td>1406723.344</td>\n",
       "      <td>-144744.392</td>\n",
       "      <td>-281499.140</td>\n",
       "    </tr>\n",
       "    <tr>\n",
       "      <th>17-23</th>\n",
       "      <td>1413190.220</td>\n",
       "      <td>6466.876</td>\n",
       "      <td>151211.268</td>\n",
       "    </tr>\n",
       "    <tr>\n",
       "      <th>18-23</th>\n",
       "      <td>1735635.772</td>\n",
       "      <td>322445.552</td>\n",
       "      <td>315978.676</td>\n",
       "    </tr>\n",
       "    <tr>\n",
       "      <th>19-23</th>\n",
       "      <td>1455052.300</td>\n",
       "      <td>-280583.472</td>\n",
       "      <td>-603029.024</td>\n",
       "    </tr>\n",
       "    <tr>\n",
       "      <th>20-23</th>\n",
       "      <td>1667635.164</td>\n",
       "      <td>212582.864</td>\n",
       "      <td>493166.336</td>\n",
       "    </tr>\n",
       "  </tbody>\n",
       "</table>\n",
       "<p>70 rows × 3 columns</p>\n",
       "</div>"
      ],
      "text/plain": [
       "       TOTAL_VALUE_SALES  SalesValue_dif  SalesValue_dif2\n",
       "WEEK                                                     \n",
       "03-22        1281626.840     -194382.812      -102902.332\n",
       "04-22        1274591.968       -7034.872       187347.940\n",
       "05-22        1290169.088       15577.120        22611.992\n",
       "06-22        1185771.652     -104397.436      -119974.556\n",
       "07-22        1272090.924       86319.272       190716.708\n",
       "...                  ...             ...              ...\n",
       "16-23        1406723.344     -144744.392      -281499.140\n",
       "17-23        1413190.220        6466.876       151211.268\n",
       "18-23        1735635.772      322445.552       315978.676\n",
       "19-23        1455052.300     -280583.472      -603029.024\n",
       "20-23        1667635.164      212582.864       493166.336\n",
       "\n",
       "[70 rows x 3 columns]"
      ]
     },
     "execution_count": 14,
     "metadata": {},
     "output_type": "execute_result"
    }
   ],
   "source": [
    "# Aplicar diferencias doble para remover la tendencia\n",
    "TotalWeeklySales_train[\"SalesValue_dif2\"] = TotalWeeklySales_train[\"SalesValue_dif\"].diff()\n",
    "TotalWeeklySales_train = TotalWeeklySales_train.dropna()\n",
    "TotalWeeklySales_train"
   ]
  },
  {
   "cell_type": "code",
   "execution_count": 15,
   "id": "a16e3872-3b2e-4067-8797-d60b904a3cd3",
   "metadata": {},
   "outputs": [
    {
     "data": {
      "text/plain": [
       "<Axes: xlabel='WEEK'>"
      ]
     },
     "execution_count": 15,
     "metadata": {},
     "output_type": "execute_result"
    },
    {
     "data": {
      "image/png": "[encoded data removed]",
      "text/plain": [
       "<Figure size 640x480 with 1 Axes>"
      ]
     },
     "metadata": {},
     "output_type": "display_data"
    }
   ],
   "source": [
    "TotalWeeklySales_train[\"SalesValue_dif2\"].plot()"
   ]
  },
  {
   "cell_type": "code",
   "execution_count": 16,
   "id": "23c49647-f5ee-4d4a-80c5-29b135871394",
   "metadata": {},
   "outputs": [
    {
     "name": "stdout",
     "output_type": "stream",
     "text": [
      "El valor p de la prueba Dickey-Fuller es:  0.002920451918636682\n"
     ]
    }
   ],
   "source": [
    "# Realizar Dickey-Fuller en las diferencias\n",
    "adf_test_dif = adfuller(TotalWeeklySales_train[\"SalesValue_dif2\"])\n",
    "print(\"El valor p de la prueba Dickey-Fuller es: \", adf_test_dif[1])"
   ]
  },
  {
   "cell_type": "markdown",
   "id": "7943e256-cd7b-450c-b83e-58395e7c71ba",
   "metadata": {},
   "source": [
    "Al tener un valor p menor a 0.05, podemos decir que la serie es estacional\n",
    "\n",
    "Al haber realizado dos diferencias, en ARIMA, el valor a utilizar en d seria de 2"
   ]
  },
  {
   "cell_type": "code",
   "execution_count": 17,
   "id": "2443a2db-f397-41da-a783-d08afcadbc7c",
   "metadata": {},
   "outputs": [],
   "source": [
    "import warnings\n",
    "warnings.filterwarnings(\"ignore\")"
   ]
  },
  {
   "cell_type": "code",
   "execution_count": 18,
   "id": "48f762dc-027a-4108-b3ae-ca93399051a3",
   "metadata": {},
   "outputs": [
    {
     "name": "stdout",
     "output_type": "stream",
     "text": [
      "El AIC para AR(1) es:  1932.8275611520748\n",
      "El BIC para AR(1) es:  1939.5730468782228\n"
     ]
    }
   ],
   "source": [
    "# Importacion del modulo para estimar un modelo ARIMA\n",
    "from statsmodels.tsa.arima.model import ARIMA\n",
    "\n",
    "# Ajustar los datos a un model AR(1) e imprimir su AIC:\n",
    "mod_ar1 = ARIMA(TotalWeeklySales_train[\"SalesValue_dif2\"], order = (1,0,0))\n",
    "res_ar1 = mod_ar1.fit()\n",
    "print(\"El AIC para AR(1) es: \", res_ar1.aic)\n",
    "print(\"El BIC para AR(1) es: \", res_ar1.bic)"
   ]
  },
  {
   "cell_type": "code",
   "execution_count": 19,
   "id": "193083f9-8593-40df-beb3-159f3a317462",
   "metadata": {},
   "outputs": [
    {
     "name": "stdout",
     "output_type": "stream",
     "text": [
      "El AIC para AR(2) es:  1925.7664109955638\n",
      "El BIC para AR(2) es:  1934.7603919637613\n"
     ]
    }
   ],
   "source": [
    "# Ajustar los datos a un model AR(2) e imprimir su AIC:\n",
    "mod_ar2 = ARIMA(TotalWeeklySales_train[\"SalesValue_dif2\"], order = (2,0,0))\n",
    "res_ar2 = mod_ar2.fit()\n",
    "print(\"El AIC para AR(2) es: \", res_ar2.aic)\n",
    "print(\"El BIC para AR(2) es: \", res_ar2.bic)"
   ]
  },
  {
   "cell_type": "code",
   "execution_count": 20,
   "id": "042cd6d8-d07f-40eb-9998-286d168d448e",
   "metadata": {},
   "outputs": [
    {
     "name": "stdout",
     "output_type": "stream",
     "text": [
      "El AIC para AR(3) es:  1903.19471097779\n",
      "El BIC para AR(3) es:  1914.437187188037\n"
     ]
    }
   ],
   "source": [
    "# Ajustar los datos a un model AR(3) e imprimir su AIC:\n",
    "mod_ar3 = ARIMA(TotalWeeklySales_train[\"SalesValue_dif2\"], order = (3,0,0))\n",
    "res_ar3 = mod_ar3.fit()\n",
    "print(\"El AIC para AR(3) es: \", res_ar3.aic)\n",
    "print(\"El BIC para AR(3) es: \", res_ar3.bic)"
   ]
  },
  {
   "cell_type": "code",
   "execution_count": 21,
   "id": "2d58b89b-96b8-46b4-a8cc-b50044c25c1b",
   "metadata": {},
   "outputs": [
    {
     "name": "stdout",
     "output_type": "stream",
     "text": [
      "El AIC para AR(4) es:  1891.7922727149978\n",
      "El BIC para AR(4) es:  1905.283244167294\n"
     ]
    }
   ],
   "source": [
    "# Ajustar los datos a un model AR(4) e imprimir su AIC:\n",
    "mod_ar4 = ARIMA(TotalWeeklySales_train[\"SalesValue_dif2\"], order = (4,0,0))\n",
    "res_ar4 = mod_ar4.fit()\n",
    "print(\"El AIC para AR(4) es: \", res_ar4.aic)\n",
    "print(\"El BIC para AR(4) es: \", res_ar4.bic)"
   ]
  },
  {
   "cell_type": "code",
   "execution_count": 22,
   "id": "4001e5a6-8a7d-41b2-8fd7-3339f6a9e74f",
   "metadata": {},
   "outputs": [
    {
     "name": "stdout",
     "output_type": "stream",
     "text": [
      "El AIC para AR(5) es:  1887.4051090689672\n",
      "El BIC para AR(5) es:  1903.1445757633128\n"
     ]
    }
   ],
   "source": [
    "# Ajustar los datos a un model AR(5) e imprimir su AIC:\n",
    "mod_ar5 = ARIMA(TotalWeeklySales_train[\"SalesValue_dif2\"], order = (5,0,0))\n",
    "res_ar5 = mod_ar5.fit()\n",
    "print(\"El AIC para AR(5) es: \", res_ar5.aic)\n",
    "print(\"El BIC para AR(5) es: \", res_ar5.bic)"
   ]
  },
  {
   "cell_type": "code",
   "execution_count": 23,
   "id": "73a2e94a-735e-4aaf-b5f5-0b485a8a5ae3",
   "metadata": {},
   "outputs": [
    {
     "name": "stdout",
     "output_type": "stream",
     "text": [
      "El AIC para AR(5) es:  1887.9497688852575\n",
      "El BIC para AR(5) es:  1905.9377308216524\n"
     ]
    }
   ],
   "source": [
    "# Ajustar los datos a un model AR(5) e imprimir su AIC:\n",
    "mod_ar6 = ARIMA(TotalWeeklySales_train[\"SalesValue_dif2\"], order = (6,0,0))\n",
    "res_ar6 = mod_ar6.fit()\n",
    "print(\"El AIC para AR(5) es: \", res_ar6.aic)\n",
    "print(\"El BIC para AR(5) es: \", res_ar6.bic)"
   ]
  },
  {
   "cell_type": "markdown",
   "id": "f448add0-3461-4b23-b8c4-afcdcf5c4514",
   "metadata": {},
   "source": [
    "Debido a que el AIC y BIC dejaron de disminuir significativamente, podemos tomar p = 5"
   ]
  },
  {
   "cell_type": "code",
   "execution_count": 24,
   "id": "89e5aa5b-b6da-465b-8578-c83ea5e438b3",
   "metadata": {},
   "outputs": [
    {
     "name": "stdout",
     "output_type": "stream",
     "text": [
      "El AIC para ARMA(5,1) es:  1886.7166441789416\n",
      "El AIC para ARMA(5,1) es:  1904.7046061153364\n"
     ]
    }
   ],
   "source": [
    "# Ajustar los datos a un model ARMA(5,1) e imprimir su AIC:\n",
    "mod_arma51 = ARIMA(TotalWeeklySales_train[\"SalesValue_dif2\"], order = (5,0,1))\n",
    "res_arma51 = mod_arma51.fit()\n",
    "print(\"El AIC para ARMA(5,1) es: \", res_arma51.aic)\n",
    "print(\"El AIC para ARMA(5,1) es: \", res_arma51.bic)"
   ]
  },
  {
   "cell_type": "code",
   "execution_count": 25,
   "id": "693d1008-b159-4111-be81-c74d860b0c51",
   "metadata": {},
   "outputs": [
    {
     "name": "stdout",
     "output_type": "stream",
     "text": [
      "El AIC para ARMA(5,2) es:  1888.5588495623613\n",
      "El AIC para ARMA(5,2) es:  1908.7953067408055\n"
     ]
    }
   ],
   "source": [
    "# Ajustar los datos a un model ARMA(5,2) e imprimir su AIC:\n",
    "mod_arma52 = ARIMA(TotalWeeklySales_train[\"SalesValue_dif2\"], order = (5,0,2))\n",
    "res_arma52 = mod_arma52.fit()\n",
    "print(\"El AIC para ARMA(5,2) es: \", res_arma52.aic)\n",
    "print(\"El AIC para ARMA(5,2) es: \", res_arma52.bic)"
   ]
  },
  {
   "cell_type": "markdown",
   "id": "f4177da3-c976-4926-8bdb-5036dc5afcc8",
   "metadata": {},
   "source": [
    "Debido a que el AIC y BIC dejaron de disminuir significativamente, podemos tomar q = 1"
   ]
  },
  {
   "cell_type": "markdown",
   "id": "c06ccc18-14c1-402b-b56b-740643bfd847",
   "metadata": {},
   "source": [
    "Realizadas estas pruebas podemos determinar que el mejor modelo seria ARIMA(5,2,1)"
   ]
  },
  {
   "cell_type": "code",
   "execution_count": 44,
   "id": "36507b17-b0bf-44a6-9e30-c90c532f3d89",
   "metadata": {},
   "outputs": [],
   "source": [
    "# Volvemos a calcular las bases de prueba y entrenamiento para que incluyan los valores dropeados con al realizar las diferencias\n",
    "TotalWeeklySales_train = TotalWeeklySales[:size_train]\n",
    "TotalWeeklySales_test = TotalWeeklySales[size_train:]"
   ]
  },
  {
   "cell_type": "code",
   "execution_count": 45,
   "id": "e8601432-7125-421c-b9c7-be86f8a66c6f",
   "metadata": {},
   "outputs": [
    {
     "name": "stdout",
     "output_type": "stream",
     "text": [
      "                               SARIMAX Results                                \n",
      "==============================================================================\n",
      "Dep. Variable:      TOTAL_VALUE_SALES   No. Observations:                   72\n",
      "Model:                 ARIMA(5, 2, 1)   Log Likelihood                -952.321\n",
      "Date:                Fri, 14 Mar 2025   AIC                           1918.641\n",
      "Time:                        00:34:39   BIC                           1934.381\n",
      "Sample:                             0   HQIC                          1924.893\n",
      "                                 - 72                                         \n",
      "Covariance Type:                  opg                                         \n",
      "==============================================================================\n",
      "                 coef    std err          z      P>|z|      [0.025      0.975]\n",
      "------------------------------------------------------------------------------\n",
      "ar.L1         -0.1794      0.072     -2.503      0.012      -0.320      -0.039\n",
      "ar.L2         -0.4606      0.094     -4.883      0.000      -0.645      -0.276\n",
      "ar.L3         -0.3966      0.133     -2.978      0.003      -0.658      -0.136\n",
      "ar.L4         -0.1231      0.070     -1.769      0.077      -0.260       0.013\n",
      "ar.L5         -0.1483      0.064     -2.328      0.020      -0.273      -0.023\n",
      "ma.L1         -1.0000      0.132     -7.574      0.000      -1.259      -0.741\n",
      "sigma2      2.425e+10   5.44e-12   4.45e+21      0.000    2.43e+10    2.43e+10\n",
      "===================================================================================\n",
      "Ljung-Box (L1) (Q):                   5.16   Jarque-Bera (JB):                 6.13\n",
      "Prob(Q):                              0.02   Prob(JB):                         0.05\n",
      "Heteroskedasticity (H):               0.62   Skew:                             0.58\n",
      "Prob(H) (two-sided):                  0.27   Kurtosis:                         3.87\n",
      "===================================================================================\n",
      "\n",
      "Warnings:\n",
      "[1] Covariance matrix calculated using the outer product of gradients (complex-step).\n",
      "[2] Covariance matrix is singular or near-singular, with condition number 2.07e+36. Standard errors may be unstable.\n"
     ]
    }
   ],
   "source": [
    "# Importacion del modulo ARIMA de statsmodels\n",
    "from statsmodels.graphics.tsaplots import plot_predict\n",
    "\n",
    "# Pronostico de ventas usando un modelo ARIMA (5,2,1)\n",
    "mod = ARIMA(TotalWeeklySales_train[\"TOTAL_VALUE_SALES\"], order=(5,2,1))\n",
    "res = mod.fit()\n",
    "\n",
    "print(res.summary())"
   ]
  },
  {
   "cell_type": "code",
   "execution_count": 46,
   "id": "62c08fd3-d7bd-47b1-a598-34880a03f30b",
   "metadata": {},
   "outputs": [
    {
     "data": {
      "text/html": [
       "<div>\n",
       "<style scoped>\n",
       "    .dataframe tbody tr th:only-of-type {\n",
       "        vertical-align: middle;\n",
       "    }\n",
       "\n",
       "    .dataframe tbody tr th {\n",
       "        vertical-align: top;\n",
       "    }\n",
       "\n",
       "    .dataframe thead th {\n",
       "        text-align: right;\n",
       "    }\n",
       "</style>\n",
       "<table border=\"1\" class=\"dataframe\">\n",
       "  <thead>\n",
       "    <tr style=\"text-align: right;\">\n",
       "      <th></th>\n",
       "      <th>predicted_mean</th>\n",
       "    </tr>\n",
       "  </thead>\n",
       "  <tbody>\n",
       "    <tr>\n",
       "      <th>72</th>\n",
       "      <td>1680657.822825</td>\n",
       "    </tr>\n",
       "    <tr>\n",
       "      <th>73</th>\n",
       "      <td>1680163.286298</td>\n",
       "    </tr>\n",
       "    <tr>\n",
       "      <th>74</th>\n",
       "      <td>1605794.777044</td>\n",
       "    </tr>\n",
       "    <tr>\n",
       "      <th>75</th>\n",
       "      <td>1658771.103597</td>\n",
       "    </tr>\n",
       "    <tr>\n",
       "      <th>76</th>\n",
       "      <td>1679713.370792</td>\n",
       "    </tr>\n",
       "    <tr>\n",
       "      <th>77</th>\n",
       "      <td>1708311.289007</td>\n",
       "    </tr>\n",
       "    <tr>\n",
       "      <th>78</th>\n",
       "      <td>1710886.177170</td>\n",
       "    </tr>\n",
       "    <tr>\n",
       "      <th>79</th>\n",
       "      <td>1722586.041491</td>\n",
       "    </tr>\n",
       "  </tbody>\n",
       "</table>\n",
       "</div>"
      ],
      "text/plain": [
       "    predicted_mean\n",
       "72  1680657.822825\n",
       "73  1680163.286298\n",
       "74  1605794.777044\n",
       "75  1658771.103597\n",
       "76  1679713.370792\n",
       "77  1708311.289007\n",
       "78  1710886.177170\n",
       "79  1722586.041491"
      ]
     },
     "execution_count": 46,
     "metadata": {},
     "output_type": "execute_result"
    }
   ],
   "source": [
    "# Pronostico puntual de la base de prueba tomando en cuenta Base de entrenamiento:  72 Base de prueba:  8\n",
    "\n",
    "pd.set_option('display.float_format', '{:.6f}'.format)\n",
    "predicciones = res.forecast(8)\n",
    "predicciones = pd.DataFrame(predicciones)\n",
    "predicciones"
   ]
  },
  {
   "cell_type": "code",
   "execution_count": 47,
   "id": "e44e4b24-fe7f-4cf5-8813-b7063ea175c7",
   "metadata": {},
   "outputs": [
    {
     "data": {
      "text/html": [
       "<div>\n",
       "<style scoped>\n",
       "    .dataframe tbody tr th:only-of-type {\n",
       "        vertical-align: middle;\n",
       "    }\n",
       "\n",
       "    .dataframe tbody tr th {\n",
       "        vertical-align: top;\n",
       "    }\n",
       "\n",
       "    .dataframe thead th {\n",
       "        text-align: right;\n",
       "    }\n",
       "</style>\n",
       "<table border=\"1\" class=\"dataframe\">\n",
       "  <thead>\n",
       "    <tr style=\"text-align: right;\">\n",
       "      <th></th>\n",
       "      <th>Predicciones</th>\n",
       "    </tr>\n",
       "    <tr>\n",
       "      <th>Year</th>\n",
       "      <th></th>\n",
       "    </tr>\n",
       "  </thead>\n",
       "  <tbody>\n",
       "    <tr>\n",
       "      <th>21-23</th>\n",
       "      <td>1680657.822825</td>\n",
       "    </tr>\n",
       "    <tr>\n",
       "      <th>22-23</th>\n",
       "      <td>1680163.286298</td>\n",
       "    </tr>\n",
       "    <tr>\n",
       "      <th>23-23</th>\n",
       "      <td>1605794.777044</td>\n",
       "    </tr>\n",
       "    <tr>\n",
       "      <th>24-23</th>\n",
       "      <td>1658771.103597</td>\n",
       "    </tr>\n",
       "    <tr>\n",
       "      <th>25-23</th>\n",
       "      <td>1679713.370792</td>\n",
       "    </tr>\n",
       "    <tr>\n",
       "      <th>26-23</th>\n",
       "      <td>1708311.289007</td>\n",
       "    </tr>\n",
       "    <tr>\n",
       "      <th>27-23</th>\n",
       "      <td>1710886.177170</td>\n",
       "    </tr>\n",
       "    <tr>\n",
       "      <th>28-23</th>\n",
       "      <td>1722586.041491</td>\n",
       "    </tr>\n",
       "  </tbody>\n",
       "</table>\n",
       "</div>"
      ],
      "text/plain": [
       "        Predicciones\n",
       "Year                \n",
       "21-23 1680657.822825\n",
       "22-23 1680163.286298\n",
       "23-23 1605794.777044\n",
       "24-23 1658771.103597\n",
       "25-23 1679713.370792\n",
       "26-23 1708311.289007\n",
       "27-23 1710886.177170\n",
       "28-23 1722586.041491"
      ]
     },
     "execution_count": 47,
     "metadata": {},
     "output_type": "execute_result"
    }
   ],
   "source": [
    "fechas = TotalWeeklySales.reset_index()\n",
    "fechas = pd.DataFrame(fechas[\"WEEK\"])\n",
    "\n",
    "frames = [fechas, predicciones]\n",
    "result = pd.concat(frames, axis=1, join = \"inner\")\n",
    "result.columns = ['Year', 'Predicciones']\n",
    "result.index = result[\"Year\"]\n",
    "result.drop(columns=[\"Year\"], inplace=True)\n",
    "result"
   ]
  },
  {
   "cell_type": "code",
   "execution_count": 48,
   "id": "455a6786-c4fd-402e-8485-9b738c235032",
   "metadata": {},
   "outputs": [
    {
     "data": {
      "text/html": [
       "<div>\n",
       "<style scoped>\n",
       "    .dataframe tbody tr th:only-of-type {\n",
       "        vertical-align: middle;\n",
       "    }\n",
       "\n",
       "    .dataframe tbody tr th {\n",
       "        vertical-align: top;\n",
       "    }\n",
       "\n",
       "    .dataframe thead th {\n",
       "        text-align: right;\n",
       "    }\n",
       "</style>\n",
       "<table border=\"1\" class=\"dataframe\">\n",
       "  <thead>\n",
       "    <tr style=\"text-align: right;\">\n",
       "      <th></th>\n",
       "      <th>lower TOTAL_VALUE_SALES</th>\n",
       "      <th>upper TOTAL_VALUE_SALES</th>\n",
       "    </tr>\n",
       "  </thead>\n",
       "  <tbody>\n",
       "    <tr>\n",
       "      <th>72</th>\n",
       "      <td>1373252.159148</td>\n",
       "      <td>1988063.486501</td>\n",
       "    </tr>\n",
       "    <tr>\n",
       "      <th>73</th>\n",
       "      <td>1279758.061548</td>\n",
       "      <td>2080568.511047</td>\n",
       "    </tr>\n",
       "    <tr>\n",
       "      <th>74</th>\n",
       "      <td>1185359.400660</td>\n",
       "      <td>2026230.153429</td>\n",
       "    </tr>\n",
       "    <tr>\n",
       "      <th>75</th>\n",
       "      <td>1234561.879300</td>\n",
       "      <td>2082980.327894</td>\n",
       "    </tr>\n",
       "    <tr>\n",
       "      <th>76</th>\n",
       "      <td>1240132.133679</td>\n",
       "      <td>2119294.607906</td>\n",
       "    </tr>\n",
       "    <tr>\n",
       "      <th>77</th>\n",
       "      <td>1242745.463201</td>\n",
       "      <td>2173877.114812</td>\n",
       "    </tr>\n",
       "    <tr>\n",
       "      <th>78</th>\n",
       "      <td>1213372.318871</td>\n",
       "      <td>2208400.035469</td>\n",
       "    </tr>\n",
       "    <tr>\n",
       "      <th>79</th>\n",
       "      <td>1199186.264478</td>\n",
       "      <td>2245985.818504</td>\n",
       "    </tr>\n",
       "  </tbody>\n",
       "</table>\n",
       "</div>"
      ],
      "text/plain": [
       "    lower TOTAL_VALUE_SALES  upper TOTAL_VALUE_SALES\n",
       "72           1373252.159148           1988063.486501\n",
       "73           1279758.061548           2080568.511047\n",
       "74           1185359.400660           2026230.153429\n",
       "75           1234561.879300           2082980.327894\n",
       "76           1240132.133679           2119294.607906\n",
       "77           1242745.463201           2173877.114812\n",
       "78           1213372.318871           2208400.035469\n",
       "79           1199186.264478           2245985.818504"
      ]
     },
     "execution_count": 48,
     "metadata": {},
     "output_type": "execute_result"
    }
   ],
   "source": [
    "# Pronostico por intervalo de las 8 semanas restantes\n",
    "conf = res.get_forecast(8).conf_int(alpha=0.05)\n",
    "conf"
   ]
  },
  {
   "cell_type": "code",
   "execution_count": 49,
   "id": "7909ec47-3a39-4d61-a75f-ebdfc4960787",
   "metadata": {},
   "outputs": [
    {
     "data": {
      "text/html": [
       "<div>\n",
       "<style scoped>\n",
       "    .dataframe tbody tr th:only-of-type {\n",
       "        vertical-align: middle;\n",
       "    }\n",
       "\n",
       "    .dataframe tbody tr th {\n",
       "        vertical-align: top;\n",
       "    }\n",
       "\n",
       "    .dataframe thead th {\n",
       "        text-align: right;\n",
       "    }\n",
       "</style>\n",
       "<table border=\"1\" class=\"dataframe\">\n",
       "  <thead>\n",
       "    <tr style=\"text-align: right;\">\n",
       "      <th></th>\n",
       "      <th>lower TOTAL_VALUE_SALES</th>\n",
       "      <th>upper TOTAL_VALUE_SALES</th>\n",
       "    </tr>\n",
       "    <tr>\n",
       "      <th>WEEK</th>\n",
       "      <th></th>\n",
       "      <th></th>\n",
       "    </tr>\n",
       "  </thead>\n",
       "  <tbody>\n",
       "    <tr>\n",
       "      <th>21-23</th>\n",
       "      <td>1373252.159148</td>\n",
       "      <td>1988063.486501</td>\n",
       "    </tr>\n",
       "    <tr>\n",
       "      <th>22-23</th>\n",
       "      <td>1279758.061548</td>\n",
       "      <td>2080568.511047</td>\n",
       "    </tr>\n",
       "    <tr>\n",
       "      <th>23-23</th>\n",
       "      <td>1185359.400660</td>\n",
       "      <td>2026230.153429</td>\n",
       "    </tr>\n",
       "    <tr>\n",
       "      <th>24-23</th>\n",
       "      <td>1234561.879300</td>\n",
       "      <td>2082980.327894</td>\n",
       "    </tr>\n",
       "    <tr>\n",
       "      <th>25-23</th>\n",
       "      <td>1240132.133679</td>\n",
       "      <td>2119294.607906</td>\n",
       "    </tr>\n",
       "    <tr>\n",
       "      <th>26-23</th>\n",
       "      <td>1242745.463201</td>\n",
       "      <td>2173877.114812</td>\n",
       "    </tr>\n",
       "    <tr>\n",
       "      <th>27-23</th>\n",
       "      <td>1213372.318871</td>\n",
       "      <td>2208400.035469</td>\n",
       "    </tr>\n",
       "    <tr>\n",
       "      <th>28-23</th>\n",
       "      <td>1199186.264478</td>\n",
       "      <td>2245985.818504</td>\n",
       "    </tr>\n",
       "  </tbody>\n",
       "</table>\n",
       "</div>"
      ],
      "text/plain": [
       "       lower TOTAL_VALUE_SALES  upper TOTAL_VALUE_SALES\n",
       "WEEK                                                   \n",
       "21-23           1373252.159148           1988063.486501\n",
       "22-23           1279758.061548           2080568.511047\n",
       "23-23           1185359.400660           2026230.153429\n",
       "24-23           1234561.879300           2082980.327894\n",
       "25-23           1240132.133679           2119294.607906\n",
       "26-23           1242745.463201           2173877.114812\n",
       "27-23           1213372.318871           2208400.035469\n",
       "28-23           1199186.264478           2245985.818504"
      ]
     },
     "execution_count": 49,
     "metadata": {},
     "output_type": "execute_result"
    }
   ],
   "source": [
    "frames = [fechas, conf]\n",
    "intervalos = pd.concat(frames, axis=1, join = 'inner')\n",
    "intervalos.index = intervalos['WEEK']\n",
    "intervalos.drop(columns=[\"WEEK\"], inplace=True)\n",
    "intervalos"
   ]
  },
  {
   "cell_type": "code",
   "execution_count": 50,
   "id": "bbce3c15-6da0-4992-ac5c-8a614f7c77d1",
   "metadata": {},
   "outputs": [
    {
     "data": {
      "image/png": "[encoded data removed]",
      "text/plain": [
       "<Figure size 2000x500 with 1 Axes>"
      ]
     },
     "metadata": {},
     "output_type": "display_data"
    }
   ],
   "source": [
    "plt.figure(figsize=(20,5))\n",
    "plt.grid()\n",
    "plt.plot(TotalWeeklySales_train, label = \"Base de entrenamiento\")\n",
    "plt.plot(TotalWeeklySales_test, label = \"Base de prueba\")\n",
    "plt.plot(result, label = \"Predicciones\", color = \"red\")\n",
    "plt.plot(intervalos['lower TOTAL_VALUE_SALES'], label = \"Lim. Inf. 95%\", color = \"blue\")\n",
    "plt.plot(intervalos['upper TOTAL_VALUE_SALES'], label = \"Lim. Sup. 95%\", color = \"blue\")\n",
    "plt.xticks(rotation=90)\n",
    "plt.legend(loc=\"best\")\n",
    "plt.title(\"Pronosticos mediante ARIMA(5,2,1)\")\n",
    "plt.show()"
   ]
  },
  {
   "cell_type": "code",
   "execution_count": 51,
   "id": "5b3d62cd-ff90-418e-a1ca-5efec1cce707",
   "metadata": {},
   "outputs": [
    {
     "name": "stdout",
     "output_type": "stream",
     "text": [
      "RMSE = 380447.69 MAPE =  7.37 %\n"
     ]
    }
   ],
   "source": [
    "acumulador1 = 0\n",
    "acumulador2 = 0\n",
    "\n",
    "for contador in range(0, 8):\n",
    "    acumulador1 = acumulador1 + (TotalWeeklySales_train.iloc[contador][0] - predicciones.iloc[contador][0]) ** 2\n",
    "    acumulador2 = acumulador2 + np.abs((TotalWeeklySales_test.iloc[contador][0] - predicciones.iloc[contador][0]) /\n",
    "                                       TotalWeeklySales_test.iloc[contador][0])\n",
    "mse = acumulador1 / 8\n",
    "rmse = np.round(np.sqrt(mse),2)\n",
    "mape = np.round((acumulador2 / 8) * 100,2)\n",
    "print(\"RMSE =\", rmse, \"MAPE = \", mape, \"%\")       "
   ]
  },
  {
   "cell_type": "markdown",
   "id": "01680d73-17e3-4712-861c-b03dedb8ba8d",
   "metadata": {},
   "source": [
    "Conclusion: Los pronosticos son confiables debido a que el error es solo de 7.37%"
   ]
  },
  {
   "cell_type": "code",
   "execution_count": null,
   "id": "b86a2234-f950-4c38-97f4-8d00711cc07b",
   "metadata": {},
   "outputs": [],
   "source": []
  }
 ],
 "metadata": {
  "kernelspec": {
   "display_name": "Python 3 (ipykernel)",
   "language": "python",
   "name": "python3"
  },
  "language_info": {
   "codemirror_mode": {
    "name": "ipython",
    "version": 3
   },
   "file_extension": ".py",
   "mimetype": "text/x-python",
   "name": "python",
   "nbconvert_exporter": "python",
   "pygments_lexer": "ipython3",
   "version": "3.12.7"
  }
 },
 "nbformat": 4,
 "nbformat_minor": 5
}
